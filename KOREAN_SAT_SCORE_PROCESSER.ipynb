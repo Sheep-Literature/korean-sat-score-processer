{
 "cells": [
  {
   "cell_type": "markdown",
   "metadata": {
    "id": "nKqwWI_oplzI"
   },
   "source": [
    "# Library Import"
   ]
  },
  {
   "cell_type": "code",
   "execution_count": 3,
   "metadata": {
    "id": "7zDYaTS7pnpo"
   },
   "outputs": [],
   "source": [
    "import pandas as pd\n",
    "import numpy as np\n",
    "import matplotlib.pyplot as plt\n",
    "import time"
   ]
  },
  {
   "cell_type": "markdown",
   "metadata": {
    "id": "npRKiD5EbcPh"
   },
   "source": [
    "# 데이터셋 구축\n",
    "\n",
    "- 수능은 매년 데이터가 바뀌기에 내가 다루고자 하는 데이터가 바뀌어도 일관적으로 계속 정보를 처리하는 것을 목적으로 제작함.\n",
    "- 따라서, 데이터 셋이 바뀌어도 문제가 없게 코드가 짜여지도록 목표를 잡고 프로젝트를 진행함."
   ]
  },
  {
   "cell_type": "code",
   "execution_count": 7,
   "metadata": {},
   "outputs": [
    {
     "data": {
      "text/html": [
       "<div>\n",
       "<style scoped>\n",
       "    .dataframe tbody tr th:only-of-type {\n",
       "        vertical-align: middle;\n",
       "    }\n",
       "\n",
       "    .dataframe tbody tr th {\n",
       "        vertical-align: top;\n",
       "    }\n",
       "\n",
       "    .dataframe thead th {\n",
       "        text-align: right;\n",
       "    }\n",
       "</style>\n",
       "<table border=\"1\" class=\"dataframe\">\n",
       "  <thead>\n",
       "    <tr style=\"text-align: right;\">\n",
       "      <th></th>\n",
       "      <th>학생ID</th>\n",
       "      <th>국어</th>\n",
       "      <th>수학</th>\n",
       "      <th>영어</th>\n",
       "      <th>한국사</th>\n",
       "      <th>탐구1</th>\n",
       "      <th>탐구2</th>\n",
       "    </tr>\n",
       "  </thead>\n",
       "  <tbody>\n",
       "    <tr>\n",
       "      <th>0</th>\n",
       "      <td>1</td>\n",
       "      <td>22</td>\n",
       "      <td>12</td>\n",
       "      <td>62</td>\n",
       "      <td>41</td>\n",
       "      <td>38</td>\n",
       "      <td>35</td>\n",
       "    </tr>\n",
       "    <tr>\n",
       "      <th>1</th>\n",
       "      <td>2</td>\n",
       "      <td>12</td>\n",
       "      <td>51</td>\n",
       "      <td>60</td>\n",
       "      <td>23</td>\n",
       "      <td>39</td>\n",
       "      <td>8</td>\n",
       "    </tr>\n",
       "    <tr>\n",
       "      <th>2</th>\n",
       "      <td>3</td>\n",
       "      <td>86</td>\n",
       "      <td>3</td>\n",
       "      <td>53</td>\n",
       "      <td>21</td>\n",
       "      <td>35</td>\n",
       "      <td>3</td>\n",
       "    </tr>\n",
       "    <tr>\n",
       "      <th>3</th>\n",
       "      <td>4</td>\n",
       "      <td>6</td>\n",
       "      <td>36</td>\n",
       "      <td>42</td>\n",
       "      <td>47</td>\n",
       "      <td>21</td>\n",
       "      <td>24</td>\n",
       "    </tr>\n",
       "    <tr>\n",
       "      <th>4</th>\n",
       "      <td>5</td>\n",
       "      <td>61</td>\n",
       "      <td>62</td>\n",
       "      <td>83</td>\n",
       "      <td>17</td>\n",
       "      <td>41</td>\n",
       "      <td>49</td>\n",
       "    </tr>\n",
       "  </tbody>\n",
       "</table>\n",
       "</div>"
      ],
      "text/plain": [
       "   학생ID  국어  수학  영어  한국사  탐구1  탐구2\n",
       "0     1  22  12  62   41   38   35\n",
       "1     2  12  51  60   23   39    8\n",
       "2     3  86   3  53   21   35    3\n",
       "3     4   6  36  42   47   21   24\n",
       "4     5  61  62  83   17   41   49"
      ]
     },
     "execution_count": 7,
     "metadata": {},
     "output_type": "execute_result"
    }
   ],
   "source": [
    "num_students = 300 # 응시자 수\n",
    "\n",
    "student_id = np.arange(1, num_students + 1)\n",
    "\n",
    "korean = np.random.randint(0, 101, num_students)\n",
    "math = np.random.randint(0, 101, num_students)\n",
    "english = np.random.randint(0, 101, num_students)\n",
    "history = np.random.randint(0, 51, num_students) # 한국사, 탐구 과목은 만점이 50점임을 감안\n",
    "science1 = np.random.randint(0, 51, num_students)\n",
    "science2 = np.random.randint(0, 51, num_students)\n",
    "\n",
    "df = pd.DataFrame({'학생ID': student_id,'국어': korean,'수학': math,'영어': english,'한국사': history,'탐구1': science1,'탐구2': science2})\n",
    "\n",
    "df.to_csv('student_scores.csv', index=False) #CSV파일로 저장\n",
    "\n",
    "df.head()"
   ]
  },
  {
   "cell_type": "markdown",
   "metadata": {
    "id": "98vbqCoBF2Ro"
   },
   "source": [
    "# 실행시간 구하기"
   ]
  },
  {
   "cell_type": "code",
   "execution_count": 8,
   "metadata": {
    "id": "4lw_Ue8LF1dG"
   },
   "outputs": [],
   "source": [
    "def checktime(func):\n",
    "    def newFunc(*args, **kwargs) :\n",
    "      start = time.time()\n",
    "      result = func(*args, **kwargs)\n",
    "      end = time.time()\n",
    "      print(f\"\\n실행시간은 : {end-start}\\n\")\n",
    "    return newFunc"
   ]
  },
  {
   "cell_type": "markdown",
   "metadata": {
    "id": "-PMszvzgExGA"
   },
   "source": [
    "# 데이터 검사"
   ]
  },
  {
   "cell_type": "code",
   "execution_count": 9,
   "metadata": {
    "colab": {
     "base_uri": "https://localhost:8080/"
    },
    "id": "z9_eCg6rEwyh",
    "outputId": "4309a232-2dc9-430b-bea5-5923cd914da1"
   },
   "outputs": [
    {
     "name": "stdout",
     "output_type": "stream",
     "text": [
      "   학생ID  국어  수학  영어  한국사  탐구1  탐구2\n",
      "0     1  22  12  62   41   38   35\n",
      "1     2  12  51  60   23   39    8\n",
      "2     3  86   3  53   21   35    3\n",
      "3     4   6  36  42   47   21   24\n",
      "4     5  61  62  83   17   41   49\n"
     ]
    }
   ],
   "source": [
    "class CheckingScores:\n",
    "    def __init__(self, file_path):\n",
    "        self.file_path = file_path\n",
    "        self.data = None\n",
    "\n",
    "    def load_data(self): # 데이터 경로가 알맞은지 확인\n",
    "        try:\n",
    "            self.data = pd.read_csv(self.file_path) \n",
    "        except Exception as e:\n",
    "            print(\"데이터 로딩 중 오류 발생\")\n",
    "\n",
    "    def filter_korean_math_english(self): # 각 데이터들의 점수대가 알맞은 값을 가지고 있는지 확인\n",
    "        try:\n",
    "            self.data = self.data[(self.data['국어'].between(0, 100)) & (self.data['수학'].between(0, 100)) & (self.data['영어'].between(0, 100))]\n",
    "        except Exception as e:\n",
    "            print(\"국어, 수학, 영어 점수 처리 중 오류 발생\")\n",
    "\n",
    "    def filter_history_science1_science2(self): # 위와 동일하지만 만점이 달라서 따로 처리함\n",
    "        try:\n",
    "            self.data = self.data[(self.data['한국사'].between(0, 50)) & (self.data['탐구1'].between(0, 50)) & (self.data['탐구2'].between(0, 50))]\n",
    "        except Exception as e:\n",
    "            print(\"한국사, 탐구1, 탐구2 점수 처리 중 오류 발생\")\n",
    "\n",
    "    def process_scores(self):\n",
    "        self.load_data()\n",
    "        if self.data is not None:\n",
    "            self.filter_korean_math_english()\n",
    "            self.filter_history_science1_science2()\n",
    "        return self.data\n",
    "\n",
    "    def display_results(self):\n",
    "        if self.data is not None:\n",
    "            print(self.data.head())\n",
    "        else:\n",
    "            print(\"데이터 처리에 실패했습니다.\")\n",
    "\n",
    "\n",
    "processor = CheckingScores('student_scores.csv')\n",
    "final_data = processor.process_scores()\n",
    "processor.display_results()\n"
   ]
  },
  {
   "cell_type": "markdown",
   "metadata": {
    "id": "xv1pKKV6pz0g"
   },
   "source": [
    "# 계산 클래스"
   ]
  },
  {
   "cell_type": "code",
   "execution_count": 10,
   "metadata": {
    "id": "w3hGmONvpJnW"
   },
   "outputs": [],
   "source": [
    "class Calculate() :\n",
    "    def __init__(self, data):\n",
    "        self.data = data\n",
    "        self.subjects = ['국어', '수학', '영어', '한국사', '탐구1', '탐구2']\n",
    "\n",
    "    def get_student_scores(self, student_id): # 해당 학생의 점수 값을 불러오는 함수\n",
    "        return self.data[self.data['학생ID'] == student_id].iloc[0]\n",
    "\n",
    "    def number_of_students(self, subject): # 응시자 수를 반환하는 함수\n",
    "        return len(self.data[subject])\n",
    "\n",
    "    def calculate_standard_score(self, subject, score): # 표준 점수를 구하는 함수\n",
    "        scores = self.data[subject]\n",
    "        mean = sum(scores) / len(scores)\n",
    "        variance = sum((x - mean) ** 2 for x in scores) / len(scores)\n",
    "        std_dev = np.sqrt(variance)\n",
    "        if subject in ['국어', '수학']: # 국어, 수학의 표준 점수\n",
    "            standard_score = 20 * ((score - mean) / std_dev) + 100\n",
    "        elif subject in ['탐구1', '탐구2']: # 탐구 과목의 표준 점수\n",
    "            standard_score = 10 * ((score - mean) / std_dev) + 50\n",
    "        else: # 영어와 한국사는 수능 성적표에서 표준 점수가 표시되지 않기에 예외처리 하였음\n",
    "            return None\n",
    "        return round(standard_score, 2)\n",
    "\n",
    "    def calculate_percentile(self, subject, score): # 백분위를 구해주는 함수\n",
    "        if subject in ['영어', '한국사']: # 영어와 한국사는 수능 성적표에서 백분위가 표시되지 않기에 예외처리 하였음\n",
    "            return None\n",
    "\n",
    "        scores = self.data[subject] # 나머지 과목들의 백분위 계산\n",
    "        count = sum(1 for x in scores if x < score)\n",
    "        percentile = (count / len(scores)) * 100\n",
    "        return round(percentile, 2)\n",
    "\n",
    "    def calculate_grade(self, subject, score): # 등급 산출 함수\n",
    "      if subject == '영어': # 영어 과목은 다른 등급 산출 방식을 사용함 (절대 평가)\n",
    "        if score >= 90:\n",
    "            return 1\n",
    "        elif score >= 80:\n",
    "            return 2\n",
    "        elif score >= 70:\n",
    "            return 3\n",
    "        elif score >= 60:\n",
    "            return 4\n",
    "        elif score >= 50:\n",
    "            return 5\n",
    "        elif score >= 40:\n",
    "            return 6\n",
    "        elif score >= 30:\n",
    "            return 7\n",
    "        elif score >= 20:\n",
    "            return 8\n",
    "        else:\n",
    "            return 9\n",
    "\n",
    "      elif subject == '한국사': # 한국사 과목은 다른 등급 산출 방식을 사용함 (절대 평가)\n",
    "        if score >= 40:\n",
    "            return 1\n",
    "        elif score >= 35:\n",
    "            return 2\n",
    "        elif score >= 30:\n",
    "            return 3\n",
    "        elif score >= 25:\n",
    "            return 4\n",
    "        elif score >= 20:\n",
    "            return 5\n",
    "        elif score >= 15:\n",
    "            return 6\n",
    "        elif score >= 10:\n",
    "            return 7\n",
    "        elif score >= 5:\n",
    "            return 8\n",
    "        else:\n",
    "            return 9\n",
    "\n",
    "      else:\n",
    "        percentile = self.calculate_percentile(subject, score) # 백분위를 토대로 나머지 과목들의 등급을 구함.\n",
    "        if percentile is None:\n",
    "            return None\n",
    "        if percentile >= 96:\n",
    "            return 1\n",
    "        elif percentile >= 89:\n",
    "            return 2\n",
    "        elif percentile >= 77:\n",
    "            return 3\n",
    "        elif percentile >= 60:\n",
    "            return 4\n",
    "        elif percentile >= 40:\n",
    "            return 5\n",
    "        elif percentile >= 23:\n",
    "            return 6\n",
    "        elif percentile >= 11:\n",
    "            return 7\n",
    "        elif percentile >= 4:\n",
    "            return 8\n",
    "        else:\n",
    "            return 9\n",
    "\n",
    "\n",
    "    def get_student_results(self, student_id): # 원하는 학생의 성적을 구하는 함수.\n",
    "        student_scores = self.get_student_scores(student_id)\n",
    "        results = {}\n",
    "        for subject in self.subjects:\n",
    "            score = student_scores[subject]\n",
    "            result = {'응시자수': self.number_of_students(subject),'등급': self.calculate_grade(subject, score)}\n",
    "\n",
    "            if subject not in ['영어', '한국사']:\n",
    "                result['표준점수'] = self.calculate_standard_score(subject, score)\n",
    "                result['백분위'] = self.calculate_percentile(subject, score)\n",
    "            results[subject] = result\n",
    "        return results\n"
   ]
  },
  {
   "cell_type": "markdown",
   "metadata": {
    "id": "eJMLypH5qqpM"
   },
   "source": [
    "# 각 학생들의 성적표 발급"
   ]
  },
  {
   "cell_type": "code",
   "execution_count": 13,
   "metadata": {
    "id": "BrSe1R04jiRl"
   },
   "outputs": [],
   "source": [
    "@checktime # 실행시간 계산\n",
    "def main() :\n",
    "  data = pd.read_csv('student_scores.csv') # 데이터 불러오기\n",
    "\n",
    "  cal = Calculate(data)\n",
    "  STUDENT_ID = 299 # 원하는 학생 ID를 입력하면 각기 다른 성적표가 출력되도록 실행\n",
    "\n",
    "  try: # 학생 ID가 존재하지 않는 경우 예외처리함.\n",
    "    student_results = cal.get_student_results(STUDENT_ID)\n",
    "    print(STUDENT_ID, '번 학생의 성적표입니다.\\n')\n",
    "    print(student_results)\n",
    "\n",
    "  except Exception as e:\n",
    "    print(f\"존재하지 않는 학생 ID 입니다\")\n"
   ]
  },
  {
   "cell_type": "code",
   "execution_count": 14,
   "metadata": {
    "colab": {
     "base_uri": "https://localhost:8080/"
    },
    "id": "FQP9T09nX07X",
    "outputId": "6a8dc620-b1fb-41da-a777-57448f099223"
   },
   "outputs": [
    {
     "name": "stdout",
     "output_type": "stream",
     "text": [
      "299 번 학생의 성적표입니다.\n",
      "\n",
      "{'국어': {'응시자수': 300, '등급': 7, '표준점수': 80.81, '백분위': 21.33}, '수학': {'응시자수': 300, '등급': 5, '표준점수': 103.89, '백분위': 54.0}, '영어': {'응시자수': 300, '등급': 5}, '한국사': {'응시자수': 300, '등급': 8}, '탐구1': {'응시자수': 300, '등급': 2, '표준점수': 65.96, '백분위': 94.33}, '탐구2': {'응시자수': 300, '등급': 8, '표준점수': 35.75, '백분위': 6.0}}\n",
      "\n",
      "실행시간은 : 0.006794929504394531\n",
      "\n"
     ]
    }
   ],
   "source": [
    "main()"
   ]
  },
  {
   "cell_type": "markdown",
   "metadata": {
    "id": "p4XkRRbMPo1K"
   },
   "source": [
    "# 데이터 시각화"
   ]
  },
  {
   "cell_type": "code",
   "execution_count": 15,
   "metadata": {
    "id": "xBxEYSsyi1Sq"
   },
   "outputs": [],
   "source": [
    "data = pd.read_csv('student_scores.csv')\n",
    "data.rename(columns={'국어': 'Korean','수학': 'Math','영어': 'English','한국사': 'History','탐구1': 'science1','탐구2': 'science2'}, inplace=True)\n",
    "# matplotlib에서는 한글이 깨지기 때문에 사용 직전 데이터를 영어로 처리해줌."
   ]
  },
  {
   "cell_type": "markdown",
   "metadata": {
    "id": "hB7otWCGlCiy"
   },
   "source": [
    "## 등급컷 표\n",
    "- 수능이 끝나면 학생들이 가장 먼저 확인하는 등급컷을 numpy와 pandas library를 활용하여 표로 간단하게 제작하여 보기 편하도록 함"
   ]
  },
  {
   "cell_type": "code",
   "execution_count": 16,
   "metadata": {
    "colab": {
     "base_uri": "https://localhost:8080/"
    },
    "id": "eL6S244PIyH3",
    "outputId": "88feebce-5cb3-4a85-db8c-0575bd6480ea"
   },
   "outputs": [
    {
     "name": "stdout",
     "output_type": "stream",
     "text": [
      "     Korean  Math  science1  science2\n",
      "등급                                   \n",
      "1등급      96    98        48        49\n",
      "2등급      91    94        45        44\n",
      "3등급      72    83        38        38\n",
      "4등급      56    63        30        28\n",
      "5등급      36    45        22        18\n",
      "6등급      20    26        13        10\n",
      "7등급       9    12         6         5\n",
      "8등급       2     5         2         2\n"
     ]
    }
   ],
   "source": [
    "class GradeCalculator:\n",
    "    def __init__(self, data, subjects):\n",
    "        self.data = data\n",
    "        self.subjects = subjects\n",
    "        self.grade_cut_dict = {}\n",
    "\n",
    "    def calculate_grade_cut(self, scores): \n",
    "        percentiles = [96, 89, 77, 60, 40, 23, 11, 4]\n",
    "        grade_cut = np.percentile(scores, percentiles)\n",
    "        return np.ceil(grade_cut).astype(int) # 점수가 보기 편한 숫자로 변환\n",
    "\n",
    "    def calculate_all_grades(self):\n",
    "        for subject in self.subjects:\n",
    "            grade_cut = self.calculate_grade_cut(self.data[subject])\n",
    "            self.grade_cut_dict[subject] = grade_cut\n",
    "\n",
    "    def get_grade_cut_dataframe(self):\n",
    "        grade_cut_df = pd.DataFrame(self.grade_cut_dict, index=['1등급', '2등급', '3등급', '4등급', '5등급', '6등급', '7등급', '8등급'])\n",
    "        grade_cut_df.index.name = '등급'\n",
    "        return grade_cut_df\n",
    "\n",
    "subjects = ['Korean', 'Math', 'science1', 'science2']  # 영어와 한국사는 절대평가임으로 등급컷 산출 X\n",
    "\n",
    "calculator = GradeCalculator(data, subjects)\n",
    "calculator.calculate_all_grades()\n",
    "grade_cut_df = calculator.get_grade_cut_dataframe()\n",
    "\n",
    "print(grade_cut_df)\n"
   ]
  },
  {
   "cell_type": "markdown",
   "metadata": {
    "id": "gd_MxldNlFAZ"
   },
   "source": [
    "## 점수 히스토그램\n",
    "- 시험의 난이도, 학생들의 수준을 한눈에 볼 수 있도록 점수 분포표를 이용하여 학생들의 점수를 시각화함\n",
    "\n",
    "## 상자 수염 그림\n",
    "- matplotlib 예제들을 보다가 boxplot 기능을 발견함.\n",
    "- 상자 수염 그림은 시험에 대한 다양한 수치들을 한 눈에 알 수 있는 그래프임\n",
    "\n",
    "- 중앙 값, 최대최솟값, 사분위값을 확인해 시험에 대한 다양한 정보를 한눈에 확인함."
   ]
  },
  {
   "cell_type": "code",
   "execution_count": 17,
   "metadata": {},
   "outputs": [
    {
     "data": {
      "image/png": "[encoded data removed]",
      "text/plain": [
       "<Figure size 800x600 with 1 Axes>"
      ]
     },
     "metadata": {},
     "output_type": "display_data"
    },
    {
     "data": {
      "image/png": "[encoded data removed]",
      "text/plain": [
       "<Figure size 1000x600 with 1 Axes>"
      ]
     },
     "metadata": {},
     "output_type": "display_data"
    }
   ],
   "source": [
    "class DrawingScore:\n",
    "    def __init__(self, data):\n",
    "        self.data = data\n",
    "        self.subjects = ['Korean', 'Math', 'English', 'History', 'science1', 'science2']\n",
    "\n",
    "    def plot_histogram(self, subject): # 히스토그램 함수\n",
    "        plt.figure(figsize=(8, 6))\n",
    "        plt.hist(self.data[subject], bins=10, color='skyblue', edgecolor='black')\n",
    "        \n",
    "        plt.title(f'{subject} score distribution', fontsize=16)\n",
    "        plt.xlabel('score range', fontsize=12)\n",
    "        plt.ylabel('number of student', fontsize=12)\n",
    "        plt.xticks(range(0, 101, 10))\n",
    "        \n",
    "        plt.grid(axis='y')\n",
    "        plt.show()\n",
    "\n",
    "    def plot_boxplot(self): # 상자 수염 그림 함수\n",
    "        plt.figure(figsize=(10, 6))\n",
    "        self.data[self.subjects].boxplot()\n",
    "        \n",
    "        plt.title('boxplot graph', fontsize=16)\n",
    "        plt.xlabel('subject', fontsize=12)\n",
    "        plt.ylabel('score', fontsize=12)\n",
    "        plt.grid(axis='y')\n",
    "        plt.show()\n",
    "\n",
    "\n",
    "\n",
    "visualizer = DrawingScore(data)\n",
    "\n",
    "visualizer.plot_histogram('Korean') # Korean, Math, English, History, science1, science2 6개의 항목이 존재함. 대소문자 주의\n",
    "\n",
    "visualizer.plot_boxplot()"
   ]
  }
 ],
 "metadata": {
  "colab": {
   "provenance": []
  },
  "kernelspec": {
   "display_name": "Python 3 (ipykernel)",
   "language": "python",
   "name": "python3"
  },
  "language_info": {
   "codemirror_mode": {
    "name": "ipython",
    "version": 3
   },
   "file_extension": ".py",
   "mimetype": "text/x-python",
   "name": "python",
   "nbconvert_exporter": "python",
   "pygments_lexer": "ipython3",
   "version": "3.12.4"
  }
 },
 "nbformat": 4,
 "nbformat_minor": 4
}
